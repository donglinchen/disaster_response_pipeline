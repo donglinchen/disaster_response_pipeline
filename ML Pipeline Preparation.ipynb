{
 "cells": [
  {
   "cell_type": "markdown",
   "metadata": {},
   "source": [
    "# ML Pipeline Preparation\n",
    "Follow the instructions below to help you create your ML pipeline.\n",
    "### 1. Import libraries and load data from database.\n",
    "- Import Python libraries\n",
    "- Load dataset from database with [`read_sql_table`](https://pandas.pydata.org/pandas-docs/stable/generated/pandas.read_sql_table.html)\n",
    "- Define feature and target variables X and Y"
   ]
  },
  {
   "cell_type": "code",
   "execution_count": 24,
   "metadata": {},
   "outputs": [
    {
     "output_type": "stream",
     "name": "stderr",
     "text": "[nltk_data] Downloading package punkt to\n[nltk_data]     /Users/dchen@us.ibm.com/nltk_data...\n[nltk_data]   Package punkt is already up-to-date!\n[nltk_data] Downloading package wordnet to\n[nltk_data]     /Users/dchen@us.ibm.com/nltk_data...\n[nltk_data]   Package wordnet is already up-to-date!\n"
    }
   ],
   "source": [
    "# import libraries\n",
    "import pandas as pd\n",
    "from sqlalchemy import create_engine\n",
    "import re\n",
    "\n",
    "import nltk\n",
    "nltk.download(['punkt', 'wordnet'])\n",
    "\n",
    "from nltk.tokenize import word_tokenize\n",
    "from nltk.stem import WordNetLemmatizer\n",
    "\n",
    "from sklearn.pipeline import Pipeline\n",
    "from sklearn.multioutput import MultiOutputClassifier\n",
    "from sklearn.feature_extraction.text import CountVectorizer, TfidfTransformer\n",
    "from sklearn.ensemble import RandomForestClassifier\n",
    "from sklearn.tree import DecisionTreeClassifier\n",
    "from sklearn.naive_bayes import GaussianNB\n",
    "from sklearn.model_selection import train_test_split, GridSearchCV\n",
    "\n",
    "from sklearn.metrics import confusion_matrix\n",
    "from sklearn.metrics import classification_report\n",
    "\n",
    "# pd.set_option('display.max_colwidth', -1)"
   ]
  },
  {
   "cell_type": "code",
   "execution_count": 22,
   "metadata": {},
   "outputs": [],
   "source": [
    "# list(set(df.columns) - set({'id', 'message', 'original', 'genre'}))"
   ]
  },
  {
   "cell_type": "code",
   "execution_count": 3,
   "metadata": {},
   "outputs": [],
   "source": [
    "# load data from database\n",
    "engine = create_engine('sqlite:///DisasterResponse.db')\n",
    "df = pd.read_sql_table('cleaned_data', engine)\n",
    "X = df['message'].values\n",
    "output_columns = list(set(df.columns) - set({'id', 'message', 'original', 'genre'}))\n",
    "Y = df[output_columns].values"
   ]
  },
  {
   "cell_type": "code",
   "execution_count": 4,
   "metadata": {},
   "outputs": [],
   "source": [
    "# Y"
   ]
  },
  {
   "cell_type": "markdown",
   "metadata": {},
   "source": [
    "### 2. Write a tokenization function to process your text data"
   ]
  },
  {
   "cell_type": "code",
   "execution_count": 5,
   "metadata": {},
   "outputs": [],
   "source": [
    "def tokenize(text):\n",
    "    \"\"\"Take the following steps to clean and tokenize text data:\n",
    "        1. Replace any urls in text with \"urlplaceholder\" to reduce the data noise caused by url\n",
    "        2. Split text into tokens.\n",
    "        3. lemmatize, normalize case, and strip leading and trailing white space.\n",
    "    Args:\n",
    "        text (str): the input text to clean and tokenize\n",
    "    Returns:\n",
    "        list of string: cleaned and tokenized list of words\n",
    "    \"\"\"\n",
    "    url_regex = 'http[s]?://(?:[a-zA-Z]|[0-9]|[$-_@.&+]|[!*\\(\\),]|(?:%[0-9a-fA-F][0-9a-fA-F]))+'\n",
    "    detected_urls = re.findall(url_regex, text)\n",
    "    for url in detected_urls:\n",
    "        text = text.replace(url, \"urlplaceholder\")\n",
    "\n",
    "    tokens = word_tokenize(text)\n",
    "    lemmatizer = WordNetLemmatizer()   \n",
    "    return [lemmatizer.lemmatize(token).lower().strip() for token in tokens]"
   ]
  },
  {
   "cell_type": "markdown",
   "metadata": {},
   "source": [
    "### 3. Build a machine learning pipeline\n",
    "This machine pipeline should take in the `message` column as input and output classification results on the other 36 categories in the dataset. You may find the [MultiOutputClassifier](http://scikit-learn.org/stable/modules/generated/sklearn.multioutput.MultiOutputClassifier.html) helpful for predicting multiple target variables."
   ]
  },
  {
   "cell_type": "code",
   "execution_count": 14,
   "metadata": {},
   "outputs": [],
   "source": [
    "pipeline = Pipeline([\n",
    "        ('vect', CountVectorizer(tokenizer=tokenize)),\n",
    "        ('tfidf', TfidfTransformer()),\n",
    "        ('clf', MultiOutputClassifier(RandomForestClassifier(n_estimators=20)))\n",
    "    ])"
   ]
  },
  {
   "cell_type": "markdown",
   "metadata": {},
   "source": [
    "### 4. Train pipeline\n",
    "- Split data into train and test sets\n",
    "- Train pipeline"
   ]
  },
  {
   "cell_type": "code",
   "execution_count": 15,
   "metadata": {},
   "outputs": [
    {
     "output_type": "stream",
     "name": "stdout",
     "text": "CPU times: user 59.3 s, sys: 193 ms, total: 59.5 s\nWall time: 59.6 s\n"
    },
    {
     "output_type": "execute_result",
     "data": {
      "text/plain": "Pipeline(memory=None,\n     steps=[('vect', CountVectorizer(analyzer='word', binary=False, decode_error='strict',\n        dtype=<class 'numpy.int64'>, encoding='utf-8', input='content',\n        lowercase=True, max_df=1.0, max_features=None, min_df=1,\n        ngram_range=(1, 1), preprocessor=None, stop_words=None,\n        strip..._score=False, random_state=None, verbose=0,\n            warm_start=False),\n           n_jobs=None))])"
     },
     "metadata": {},
     "execution_count": 15
    }
   ],
   "source": [
    "%%time\n",
    "X_train, X_test, Y_train, Y_test = train_test_split(X, Y)\n",
    "pipeline.fit(X_train, Y_train)"
   ]
  },
  {
   "cell_type": "markdown",
   "metadata": {},
   "source": [
    "### 5. Test your model\n",
    "Report the f1 score, precision and recall for each output category of the dataset. You can do this by iterating through the columns and calling sklearn's `classification_report` on each."
   ]
  },
  {
   "cell_type": "code",
   "execution_count": 8,
   "metadata": {},
   "outputs": [],
   "source": [
    "Y_pred = pipeline.predict(X_test)"
   ]
  },
  {
   "cell_type": "code",
   "execution_count": 9,
   "metadata": {},
   "outputs": [
    {
     "name": "stdout",
     "output_type": "stream",
     "text": [
      "classification_report for category fire:\n",
      "              precision    recall  f1-score   support\n",
      "\n",
      "           0       0.99      1.00      0.99      6476\n",
      "           1       0.50      0.01      0.03        78\n",
      "\n",
      "   micro avg       0.99      0.99      0.99      6554\n",
      "   macro avg       0.74      0.51      0.51      6554\n",
      "weighted avg       0.98      0.99      0.98      6554\n",
      "\n",
      "classification_report for category medical_products:\n",
      "              precision    recall  f1-score   support\n",
      "\n",
      "           0       0.95      1.00      0.98      6237\n",
      "           1       0.79      0.05      0.09       317\n",
      "\n",
      "   micro avg       0.95      0.95      0.95      6554\n",
      "   macro avg       0.87      0.52      0.53      6554\n",
      "weighted avg       0.95      0.95      0.93      6554\n",
      "\n",
      "classification_report for category offer:\n",
      "              precision    recall  f1-score   support\n",
      "\n",
      "           0       1.00      1.00      1.00      6529\n",
      "           1       0.00      0.00      0.00        25\n",
      "\n",
      "   micro avg       1.00      1.00      1.00      6554\n",
      "   macro avg       0.50      0.50      0.50      6554\n",
      "weighted avg       0.99      1.00      0.99      6554\n",
      "\n",
      "classification_report for category refugees:\n",
      "              precision    recall  f1-score   support\n",
      "\n",
      "           0       0.96      1.00      0.98      6321\n",
      "           1       0.33      0.00      0.01       233\n",
      "\n",
      "   micro avg       0.96      0.96      0.96      6554\n",
      "   macro avg       0.65      0.50      0.50      6554\n",
      "weighted avg       0.94      0.96      0.95      6554\n",
      "\n",
      "classification_report for category other_aid:\n",
      "              precision    recall  f1-score   support\n",
      "\n",
      "           0       0.87      1.00      0.93      5698\n",
      "           1       0.70      0.02      0.04       856\n",
      "\n",
      "   micro avg       0.87      0.87      0.87      6554\n",
      "   macro avg       0.78      0.51      0.48      6554\n",
      "weighted avg       0.85      0.87      0.81      6554\n",
      "\n",
      "classification_report for category infrastructure_related:\n",
      "              precision    recall  f1-score   support\n",
      "\n",
      "           0       0.93      1.00      0.97      6118\n",
      "           1       0.00      0.00      0.00       436\n",
      "\n",
      "   micro avg       0.93      0.93      0.93      6554\n",
      "   macro avg       0.47      0.50      0.48      6554\n",
      "weighted avg       0.87      0.93      0.90      6554\n",
      "\n",
      "classification_report for category shelter:\n",
      "              precision    recall  f1-score   support\n",
      "\n",
      "           0       0.93      1.00      0.96      5956\n",
      "           1       0.93      0.24      0.38       598\n",
      "\n",
      "   micro avg       0.93      0.93      0.93      6554\n",
      "   macro avg       0.93      0.62      0.67      6554\n",
      "weighted avg       0.93      0.93      0.91      6554\n",
      "\n",
      "classification_report for category aid_centers:\n",
      "              precision    recall  f1-score   support\n",
      "\n",
      "           0       0.99      1.00      0.99      6473\n",
      "           1       0.00      0.00      0.00        81\n",
      "\n",
      "   micro avg       0.99      0.99      0.99      6554\n",
      "   macro avg       0.49      0.50      0.50      6554\n",
      "weighted avg       0.98      0.99      0.98      6554\n",
      "\n",
      "classification_report for category money:\n",
      "              precision    recall  f1-score   support\n",
      "\n",
      "           0       0.98      1.00      0.99      6401\n",
      "           1       0.91      0.07      0.12       153\n",
      "\n",
      "   micro avg       0.98      0.98      0.98      6554\n",
      "   macro avg       0.94      0.53      0.56      6554\n",
      "weighted avg       0.98      0.98      0.97      6554\n",
      "\n",
      "classification_report for category shops:\n",
      "              precision    recall  f1-score   support\n",
      "\n",
      "           0       1.00      1.00      1.00      6524\n",
      "           1       0.00      0.00      0.00        30\n",
      "\n",
      "   micro avg       1.00      1.00      1.00      6554\n",
      "   macro avg       0.50      0.50      0.50      6554\n",
      "weighted avg       0.99      1.00      0.99      6554\n",
      "\n",
      "classification_report for category search_and_rescue:\n",
      "              precision    recall  f1-score   support\n",
      "\n",
      "           0       0.97      1.00      0.99      6371\n",
      "           1       0.70      0.04      0.07       183\n",
      "\n",
      "   micro avg       0.97      0.97      0.97      6554\n",
      "   macro avg       0.84      0.52      0.53      6554\n",
      "weighted avg       0.97      0.97      0.96      6554\n",
      "\n",
      "classification_report for category other_weather:\n",
      "              precision    recall  f1-score   support\n",
      "\n",
      "           0       0.95      1.00      0.97      6209\n",
      "           1       0.83      0.01      0.03       345\n",
      "\n",
      "   micro avg       0.95      0.95      0.95      6554\n",
      "   macro avg       0.89      0.51      0.50      6554\n",
      "weighted avg       0.94      0.95      0.92      6554\n",
      "\n",
      "classification_report for category earthquake:\n",
      "              precision    recall  f1-score   support\n",
      "\n",
      "           0       0.97      0.99      0.98      5934\n",
      "           1       0.90      0.66      0.77       620\n",
      "\n",
      "   micro avg       0.96      0.96      0.96      6554\n",
      "   macro avg       0.93      0.83      0.87      6554\n",
      "weighted avg       0.96      0.96      0.96      6554\n",
      "\n",
      "classification_report for category tools:\n",
      "              precision    recall  f1-score   support\n",
      "\n",
      "           0       0.99      1.00      1.00      6511\n",
      "           1       0.00      0.00      0.00        43\n",
      "\n",
      "   micro avg       0.99      0.99      0.99      6554\n",
      "   macro avg       0.50      0.50      0.50      6554\n",
      "weighted avg       0.99      0.99      0.99      6554\n",
      "\n",
      "classification_report for category floods:\n",
      "              precision    recall  f1-score   support\n",
      "\n",
      "           0       0.95      1.00      0.97      6008\n",
      "           1       0.88      0.39      0.54       546\n",
      "\n",
      "   micro avg       0.94      0.94      0.94      6554\n",
      "   macro avg       0.92      0.69      0.76      6554\n",
      "weighted avg       0.94      0.94      0.93      6554\n",
      "\n",
      "classification_report for category storm:\n",
      "              precision    recall  f1-score   support\n",
      "\n",
      "           0       0.94      0.99      0.97      5940\n",
      "           1       0.77      0.44      0.56       614\n",
      "\n",
      "   micro avg       0.94      0.94      0.94      6554\n",
      "   macro avg       0.86      0.71      0.76      6554\n",
      "weighted avg       0.93      0.94      0.93      6554\n",
      "\n",
      "classification_report for category direct_report:\n",
      "              precision    recall  f1-score   support\n",
      "\n",
      "           0       0.86      0.99      0.92      5241\n",
      "           1       0.87      0.33      0.48      1313\n",
      "\n",
      "   micro avg       0.86      0.86      0.86      6554\n",
      "   macro avg       0.86      0.66      0.70      6554\n",
      "weighted avg       0.86      0.86      0.83      6554\n",
      "\n",
      "classification_report for category request:\n",
      "              precision    recall  f1-score   support\n",
      "\n",
      "           0       0.89      0.99      0.94      5413\n",
      "           1       0.91      0.43      0.58      1141\n",
      "\n",
      "   micro avg       0.89      0.89      0.89      6554\n",
      "   macro avg       0.90      0.71      0.76      6554\n",
      "weighted avg       0.89      0.89      0.88      6554\n",
      "\n",
      "classification_report for category child_alone:\n",
      "              precision    recall  f1-score   support\n",
      "\n",
      "           0       1.00      1.00      1.00      6554\n",
      "\n",
      "   micro avg       1.00      1.00      1.00      6554\n",
      "   macro avg       1.00      1.00      1.00      6554\n",
      "weighted avg       1.00      1.00      1.00      6554\n",
      "\n",
      "classification_report for category medical_help:\n",
      "              precision    recall  f1-score   support\n",
      "\n",
      "           0       0.93      1.00      0.96      6067\n",
      "           1       0.60      0.06      0.10       487\n",
      "\n",
      "   micro avg       0.93      0.93      0.93      6554\n",
      "   macro avg       0.76      0.53      0.53      6554\n",
      "weighted avg       0.90      0.93      0.90      6554\n",
      "\n",
      "classification_report for category death:\n",
      "              precision    recall  f1-score   support\n",
      "\n",
      "           0       0.96      1.00      0.98      6257\n",
      "           1       0.91      0.10      0.18       297\n",
      "\n",
      "   micro avg       0.96      0.96      0.96      6554\n",
      "   macro avg       0.93      0.55      0.58      6554\n",
      "weighted avg       0.96      0.96      0.94      6554\n",
      "\n",
      "classification_report for category security:\n",
      "              precision    recall  f1-score   support\n",
      "\n",
      "           0       0.98      1.00      0.99      6435\n",
      "           1       0.00      0.00      0.00       119\n",
      "\n",
      "   micro avg       0.98      0.98      0.98      6554\n",
      "   macro avg       0.49      0.50      0.50      6554\n",
      "weighted avg       0.96      0.98      0.97      6554\n",
      "\n",
      "classification_report for category electricity:\n",
      "              precision    recall  f1-score   support\n",
      "\n",
      "           0       0.98      1.00      0.99      6407\n",
      "           1       1.00      0.01      0.01       147\n",
      "\n",
      "   micro avg       0.98      0.98      0.98      6554\n",
      "   macro avg       0.99      0.50      0.50      6554\n",
      "weighted avg       0.98      0.98      0.97      6554\n",
      "\n",
      "classification_report for category clothing:\n",
      "              precision    recall  f1-score   support\n",
      "\n",
      "           0       0.98      1.00      0.99      6447\n",
      "           1       0.67      0.06      0.10       107\n",
      "\n",
      "   micro avg       0.98      0.98      0.98      6554\n",
      "   macro avg       0.83      0.53      0.55      6554\n",
      "weighted avg       0.98      0.98      0.98      6554\n",
      "\n",
      "classification_report for category aid_related:\n",
      "              precision    recall  f1-score   support\n",
      "\n",
      "           0       0.76      0.87      0.81      3851\n",
      "           1       0.77      0.60      0.68      2703\n",
      "\n",
      "   micro avg       0.76      0.76      0.76      6554\n",
      "   macro avg       0.77      0.74      0.74      6554\n",
      "weighted avg       0.76      0.76      0.76      6554\n",
      "\n",
      "classification_report for category food:\n",
      "              precision    recall  f1-score   support\n",
      "\n",
      "           0       0.93      0.99      0.96      5821\n",
      "           1       0.87      0.40      0.54       733\n",
      "\n",
      "   micro avg       0.93      0.93      0.93      6554\n",
      "   macro avg       0.90      0.69      0.75      6554\n",
      "weighted avg       0.92      0.93      0.91      6554\n",
      "\n",
      "classification_report for category water:\n",
      "              precision    recall  f1-score   support\n",
      "\n",
      "           0       0.95      1.00      0.97      6133\n",
      "           1       0.91      0.25      0.39       421\n",
      "\n",
      "   micro avg       0.95      0.95      0.95      6554\n",
      "   macro avg       0.93      0.63      0.68      6554\n",
      "weighted avg       0.95      0.95      0.94      6554\n",
      "\n",
      "classification_report for category hospitals:\n",
      "              precision    recall  f1-score   support\n",
      "\n",
      "           0       0.99      1.00      0.99      6486\n",
      "           1       1.00      0.01      0.03        68\n",
      "\n",
      "   micro avg       0.99      0.99      0.99      6554\n",
      "   macro avg       0.99      0.51      0.51      6554\n",
      "weighted avg       0.99      0.99      0.98      6554\n",
      "\n",
      "classification_report for category other_infrastructure:\n",
      "              precision    recall  f1-score   support\n",
      "\n",
      "           0       0.96      1.00      0.98      6263\n",
      "           1       0.00      0.00      0.00       291\n",
      "\n",
      "   micro avg       0.96      0.96      0.96      6554\n",
      "   macro avg       0.48      0.50      0.49      6554\n",
      "weighted avg       0.91      0.96      0.93      6554\n",
      "\n",
      "classification_report for category buildings:\n",
      "              precision    recall  f1-score   support\n",
      "\n",
      "           0       0.95      1.00      0.97      6216\n",
      "           1       0.83      0.06      0.11       338\n",
      "\n",
      "   micro avg       0.95      0.95      0.95      6554\n",
      "   macro avg       0.89      0.53      0.54      6554\n",
      "weighted avg       0.94      0.95      0.93      6554\n",
      "\n",
      "classification_report for category weather_related:\n",
      "              precision    recall  f1-score   support\n",
      "\n",
      "           0       0.86      0.96      0.91      4697\n",
      "           1       0.86      0.62      0.72      1857\n",
      "\n",
      "   micro avg       0.86      0.86      0.86      6554\n",
      "   macro avg       0.86      0.79      0.81      6554\n",
      "weighted avg       0.86      0.86      0.86      6554\n",
      "\n",
      "classification_report for category missing_people:\n",
      "              precision    recall  f1-score   support\n",
      "\n",
      "           0       0.99      1.00      0.99      6478\n",
      "           1       1.00      0.01      0.03        76\n",
      "\n",
      "   micro avg       0.99      0.99      0.99      6554\n",
      "   macro avg       0.99      0.51      0.51      6554\n",
      "weighted avg       0.99      0.99      0.98      6554\n",
      "\n",
      "classification_report for category transport:\n",
      "              precision    recall  f1-score   support\n",
      "\n",
      "           0       0.96      1.00      0.98      6252\n",
      "           1       0.92      0.07      0.13       302\n",
      "\n",
      "   micro avg       0.96      0.96      0.96      6554\n",
      "   macro avg       0.94      0.54      0.56      6554\n",
      "weighted avg       0.96      0.96      0.94      6554\n",
      "\n",
      "classification_report for category cold:\n",
      "              precision    recall  f1-score   support\n",
      "\n",
      "           0       0.98      1.00      0.99      6425\n",
      "           1       0.78      0.05      0.10       129\n",
      "\n",
      "   micro avg       0.98      0.98      0.98      6554\n",
      "   macro avg       0.88      0.53      0.55      6554\n",
      "weighted avg       0.98      0.98      0.97      6554\n",
      "\n",
      "classification_report for category military:\n",
      "              precision    recall  f1-score   support\n",
      "\n",
      "           0       0.97      1.00      0.98      6347\n",
      "           1       0.62      0.02      0.05       207\n",
      "\n",
      "   micro avg       0.97      0.97      0.97      6554\n",
      "   macro avg       0.80      0.51      0.52      6554\n",
      "weighted avg       0.96      0.97      0.95      6554\n",
      "\n",
      "classification_report for category related:\n",
      "              precision    recall  f1-score   support\n",
      "\n",
      "           0       0.71      0.27      0.39      1523\n",
      "           1       0.81      0.97      0.88      4980\n",
      "           2       0.59      0.20      0.29        51\n",
      "\n",
      "   micro avg       0.80      0.80      0.80      6554\n",
      "   macro avg       0.70      0.48      0.52      6554\n",
      "weighted avg       0.78      0.80      0.76      6554\n",
      "\n"
     ]
    },
    {
     "name": "stderr",
     "output_type": "stream",
     "text": [
      "/Users/dchen@us.ibm.com/miniconda3/envs/eliza/lib/python3.7/site-packages/sklearn/metrics/classification.py:1143: UndefinedMetricWarning: Precision and F-score are ill-defined and being set to 0.0 in labels with no predicted samples.\n",
      "  'precision', 'predicted', average, warn_for)\n"
     ]
    }
   ],
   "source": [
    "# for columns in output_columns:\n",
    "for i in range(Y_test.shape[1]):\n",
    "    print(f\"classification_report for category {output_columns[i]}:\")\n",
    "    print(classification_report(Y_test[:,i], Y_pred[:,i]))"
   ]
  },
  {
   "cell_type": "markdown",
   "metadata": {},
   "source": [
    "### 6. Improve your model\n",
    "Use grid search to find better parameters. "
   ]
  },
  {
   "cell_type": "code",
   "execution_count": null,
   "metadata": {},
   "outputs": [],
   "source": [
    "%%time\n",
    "parameters = {\n",
    "    'vect__max_df': (0.75, 1.0),\n",
    "    'vect__max_features': (None, 5000),\n",
    "#     'clf__estimator__n_estimators': [50, 100],\n",
    "#     'clf__estimator__min_samples_split': [2, 4]\n",
    "}\n",
    "\n",
    "cv = GridSearchCV(pipeline, param_grid=parameters, cv=2, n_jobs=-1, verbose=3).fit(X_train, Y_train)"
   ]
  },
  {
   "cell_type": "code",
   "execution_count": null,
   "metadata": {},
   "outputs": [],
   "source": [
    "cv.best_estimator_.get_params()"
   ]
  },
  {
   "cell_type": "markdown",
   "metadata": {},
   "source": [
    "### 7. Test your model\n",
    "Show the accuracy, precision, and recall of the tuned model.  \n",
    "\n",
    "Since this project focuses on code quality, process, and  pipelines, there is no minimum performance metric needed to pass. However, make sure to fine tune your models for accuracy, precision and recall to make your project stand out - especially for your portfolio!"
   ]
  },
  {
   "cell_type": "code",
   "execution_count": 11,
   "metadata": {},
   "outputs": [
    {
     "data": {
      "text/plain": [
       "array([[0, 0, 0, 0, 0, 0, 0, 0, 0, 0, 0, 0, 0, 0, 0, 0, 0, 0, 0, 0, 0, 0,\n",
       "        0, 0, 0, 0, 0, 0, 0, 0, 0, 0, 0, 0, 0, 1]])"
      ]
     },
     "execution_count": 11,
     "metadata": {},
     "output_type": "execute_result"
    }
   ],
   "source": [
    "pipeline.predict(['says: west side of Haiti, rest of the country today and tonight'])"
   ]
  },
  {
   "cell_type": "markdown",
   "metadata": {},
   "source": [
    "### 8. Try improving your model further. Here are a few ideas:\n",
    "* try other machine learning algorithms\n",
    "* add other features besides the TF-IDF"
   ]
  },
  {
   "cell_type": "code",
   "execution_count": 23,
   "metadata": {},
   "outputs": [
    {
     "output_type": "execute_result",
     "data": {
      "text/plain": "Pipeline(memory=None,\n     steps=[('vect', CountVectorizer(analyzer='word', binary=False, decode_error='strict',\n        dtype=<class 'numpy.int64'>, encoding='utf-8', input='content',\n        lowercase=True, max_df=1.0, max_features=None, min_df=1,\n        ngram_range=(1, 1), preprocessor=None, stop_words=None,\n        strip..._leaf=0.0, presort=False, random_state=None,\n            splitter='best'),\n           n_jobs=None))])"
     },
     "metadata": {},
     "execution_count": 23
    }
   ],
   "source": [
    "%%time\n",
    "pipeline = Pipeline([\n",
    "        ('vect', CountVectorizer(tokenizer=tokenize)),\n",
    "        ('tfidf', TfidfTransformer()),\n",
    "        ('clf', MultiOutputClassifier(DecisionTreeClassifier()))\n",
    "    ])\n",
    "X_train, X_test, Y_train, Y_test = train_test_split(X, Y)\n",
    "pipeline.fit(X_train, Y_train)"
   ]
  },
  {
   "cell_type": "code",
   "execution_count": 28,
   "metadata": {},
   "outputs": [
    {
     "output_type": "stream",
     "name": "stdout",
     "text": "classification_report for category military:\n              precision    recall  f1-score   support\n\n           0       0.98      0.98      0.98      5081\n           1       0.36      0.36      0.36       163\n\n   micro avg       0.96      0.96      0.96      5244\n   macro avg       0.67      0.67      0.67      5244\nweighted avg       0.96      0.96      0.96      5244\n\nclassification_report for category child_alone:\n              precision    recall  f1-score   support\n\n           0       1.00      1.00      1.00      5244\n\n   micro avg       1.00      1.00      1.00      5244\n   macro avg       1.00      1.00      1.00      5244\nweighted avg       1.00      1.00      1.00      5244\n\nclassification_report for category death:\n              precision    recall  f1-score   support\n\n           0       0.98      0.98      0.98      4983\n           1       0.56      0.53      0.55       261\n\n   micro avg       0.96      0.96      0.96      5244\n   macro avg       0.77      0.76      0.76      5244\nweighted avg       0.95      0.96      0.96      5244\n\nclassification_report for category aid_related:\n              precision    recall  f1-score   support\n\n           0       0.72      0.74      0.73      2997\n           1       0.64      0.62      0.63      2247\n\n   micro avg       0.69      0.69      0.69      5244\n   macro avg       0.68      0.68      0.68      5244\nweighted avg       0.69      0.69      0.69      5244\n\nclassification_report for category fire:\n              precision    recall  f1-score   support\n\n           0       0.99      0.99      0.99      5178\n           1       0.35      0.27      0.31        66\n\n   micro avg       0.98      0.98      0.98      5244\n   macro avg       0.67      0.63      0.65      5244\nweighted avg       0.98      0.98      0.98      5244\n\nclassification_report for category shelter:\n              precision    recall  f1-score   support\n\n           0       0.96      0.97      0.96      4776\n           1       0.63      0.57      0.60       468\n\n   micro avg       0.93      0.93      0.93      5244\n   macro avg       0.80      0.77      0.78      5244\nweighted avg       0.93      0.93      0.93      5244\n\nclassification_report for category infrastructure_related:\n              precision    recall  f1-score   support\n\n           0       0.94      0.95      0.94      4889\n           1       0.17      0.15      0.16       355\n\n   micro avg       0.89      0.89      0.89      5244\n   macro avg       0.55      0.55      0.55      5244\nweighted avg       0.89      0.89      0.89      5244\n\nclassification_report for category earthquake:\n              precision    recall  f1-score   support\n\n           0       0.98      0.98      0.98      4776\n           1       0.77      0.79      0.78       468\n\n   micro avg       0.96      0.96      0.96      5244\n   macro avg       0.88      0.88      0.88      5244\nweighted avg       0.96      0.96      0.96      5244\n\nclassification_report for category related:\n              precision    recall  f1-score   support\n\n           0       0.46      0.45      0.45      1173\n           1       0.84      0.85      0.84      4039\n           2       0.50      0.34      0.41        32\n\n   micro avg       0.75      0.75      0.75      5244\n   macro avg       0.60      0.55      0.57      5244\nweighted avg       0.75      0.75      0.75      5244\n\nclassification_report for category hospitals:\n              precision    recall  f1-score   support\n\n           0       0.99      0.99      0.99      5175\n           1       0.12      0.07      0.09        69\n\n   micro avg       0.98      0.98      0.98      5244\n   macro avg       0.55      0.53      0.54      5244\nweighted avg       0.98      0.98      0.98      5244\n\nclassification_report for category water:\n              precision    recall  f1-score   support\n\n           0       0.97      0.98      0.98      4896\n           1       0.68      0.64      0.66       348\n\n   micro avg       0.96      0.96      0.96      5244\n   macro avg       0.83      0.81      0.82      5244\nweighted avg       0.96      0.96      0.96      5244\n\nclassification_report for category refugees:\n              precision    recall  f1-score   support\n\n           0       0.97      0.98      0.98      5057\n           1       0.32      0.26      0.28       187\n\n   micro avg       0.95      0.95      0.95      5244\n   macro avg       0.65      0.62      0.63      5244\nweighted avg       0.95      0.95      0.95      5244\n\nclassification_report for category other_infrastructure:\n              precision    recall  f1-score   support\n\n           0       0.96      0.96      0.96      5010\n           1       0.10      0.09      0.10       234\n\n   micro avg       0.92      0.92      0.92      5244\n   macro avg       0.53      0.53      0.53      5244\nweighted avg       0.92      0.92      0.92      5244\n\nclassification_report for category other_aid:\n              precision    recall  f1-score   support\n\n           0       0.88      0.90      0.89      4516\n           1       0.31      0.27      0.29       728\n\n   micro avg       0.81      0.81      0.81      5244\n   macro avg       0.60      0.59      0.59      5244\nweighted avg       0.80      0.81      0.81      5244\n\nclassification_report for category storm:\n              precision    recall  f1-score   support\n\n           0       0.97      0.97      0.97      4748\n           1       0.68      0.69      0.68       496\n\n   micro avg       0.94      0.94      0.94      5244\n   macro avg       0.82      0.83      0.83      5244\nweighted avg       0.94      0.94      0.94      5244\n\nclassification_report for category clothing:\n              precision    recall  f1-score   support\n\n           0       0.99      0.99      0.99      5153\n           1       0.54      0.49      0.52        91\n\n   micro avg       0.98      0.98      0.98      5244\n   macro avg       0.77      0.74      0.75      5244\nweighted avg       0.98      0.98      0.98      5244\n\nclassification_report for category aid_centers:\n              precision    recall  f1-score   support\n\n           0       0.99      0.99      0.99      5186\n           1       0.09      0.09      0.09        58\n\n   micro avg       0.98      0.98      0.98      5244\n   macro avg       0.54      0.54      0.54      5244\nweighted avg       0.98      0.98      0.98      5244\n\nclassification_report for category buildings:\n              precision    recall  f1-score   support\n\n           0       0.97      0.97      0.97      4981\n           1       0.43      0.39      0.41       263\n\n   micro avg       0.94      0.94      0.94      5244\n   macro avg       0.70      0.68      0.69      5244\nweighted avg       0.94      0.94      0.94      5244\n\nclassification_report for category cold:\n              precision    recall  f1-score   support\n\n           0       0.99      0.99      0.99      5128\n           1       0.57      0.47      0.51       116\n\n   micro avg       0.98      0.98      0.98      5244\n   macro avg       0.78      0.73      0.75      5244\nweighted avg       0.98      0.98      0.98      5244\n\nclassification_report for category medical_products:\n              precision    recall  f1-score   support\n\n           0       0.96      0.97      0.97      4969\n           1       0.43      0.36      0.39       275\n\n   micro avg       0.94      0.94      0.94      5244\n   macro avg       0.70      0.67      0.68      5244\nweighted avg       0.94      0.94      0.94      5244\n\nclassification_report for category search_and_rescue:\n              precision    recall  f1-score   support\n\n           0       0.98      0.98      0.98      5087\n           1       0.29      0.28      0.28       157\n\n   micro avg       0.96      0.96      0.96      5244\n   macro avg       0.63      0.63      0.63      5244\nweighted avg       0.96      0.96      0.96      5244\n\nclassification_report for category offer:\n              precision    recall  f1-score   support\n\n           0       1.00      1.00      1.00      5220\n           1       0.06      0.04      0.05        24\n\n   micro avg       0.99      0.99      0.99      5244\n   macro avg       0.53      0.52      0.52      5244\nweighted avg       0.99      0.99      0.99      5244\n\nclassification_report for category missing_people:\n              precision    recall  f1-score   support\n\n           0       0.99      0.99      0.99      5181\n           1       0.27      0.22      0.24        63\n\n   micro avg       0.98      0.98      0.98      5244\n   macro avg       0.63      0.61      0.62      5244\nweighted avg       0.98      0.98      0.98      5244\n\nclassification_report for category other_weather:\n              precision    recall  f1-score   support\n\n           0       0.95      0.96      0.96      4951\n           1       0.24      0.20      0.22       293\n\n   micro avg       0.92      0.92      0.92      5244\n   macro avg       0.59      0.58      0.59      5244\nweighted avg       0.91      0.92      0.92      5244\n\nclassification_report for category tools:\n              precision    recall  f1-score   support\n\n           0       0.99      1.00      0.99      5200\n           1       0.11      0.05      0.06        44\n\n   micro avg       0.99      0.99      0.99      5244\n   macro avg       0.55      0.52      0.53      5244\nweighted avg       0.98      0.99      0.99      5244\n\nclassification_report for category electricity:\n              precision    recall  f1-score   support\n\n           0       0.99      0.99      0.99      5143\n           1       0.38      0.30      0.33       101\n\n   micro avg       0.98      0.98      0.98      5244\n   macro avg       0.68      0.64      0.66      5244\nweighted avg       0.97      0.98      0.98      5244\n\nclassification_report for category direct_report:\n              precision    recall  f1-score   support\n\n           0       0.88      0.89      0.88      4198\n           1       0.53      0.50      0.51      1046\n\n   micro avg       0.81      0.81      0.81      5244\n   macro avg       0.70      0.69      0.70      5244\nweighted avg       0.81      0.81      0.81      5244\n\nclassification_report for category security:\n              precision    recall  f1-score   support\n\n           0       0.98      0.99      0.99      5138\n           1       0.19      0.13      0.16       106\n\n   micro avg       0.97      0.97      0.97      5244\n   macro avg       0.59      0.56      0.57      5244\nweighted avg       0.97      0.97      0.97      5244\n\nclassification_report for category money:\n              precision    recall  f1-score   support\n\n           0       0.99      0.99      0.99      5137\n           1       0.30      0.31      0.31       107\n\n   micro avg       0.97      0.97      0.97      5244\n   macro avg       0.64      0.65      0.65      5244\nweighted avg       0.97      0.97      0.97      5244\n\nclassification_report for category medical_help:\n              precision    recall  f1-score   support\n\n           0       0.94      0.95      0.94      4804\n           1       0.38      0.35      0.36       440\n\n   micro avg       0.90      0.90      0.90      5244\n   macro avg       0.66      0.65      0.65      5244\nweighted avg       0.89      0.90      0.90      5244\n\nclassification_report for category request:\n              precision    recall  f1-score   support\n\n           0       0.91      0.91      0.91      4332\n           1       0.57      0.56      0.56       912\n\n   micro avg       0.85      0.85      0.85      5244\n   macro avg       0.74      0.73      0.74      5244\nweighted avg       0.85      0.85      0.85      5244\n\nclassification_report for category weather_related:\n              precision    recall  f1-score   support\n\n           0       0.89      0.89      0.89      3765\n           1       0.72      0.71      0.71      1479\n\n   micro avg       0.84      0.84      0.84      5244\n   macro avg       0.80      0.80      0.80      5244\nweighted avg       0.84      0.84      0.84      5244\n\nclassification_report for category shops:\n              precision    recall  f1-score   support\n\n           0       0.99      1.00      1.00      5215\n           1       0.08      0.07      0.07        29\n\n   micro avg       0.99      0.99      0.99      5244\n   macro avg       0.54      0.53      0.53      5244\nweighted avg       0.99      0.99      0.99      5244\n\nclassification_report for category food:\n              precision    recall  f1-score   support\n\n           0       0.96      0.97      0.97      4643\n           1       0.74      0.72      0.73       601\n\n   micro avg       0.94      0.94      0.94      5244\n   macro avg       0.85      0.85      0.85      5244\nweighted avg       0.94      0.94      0.94      5244\n\nclassification_report for category transport:\n              precision    recall  f1-score   support\n\n           0       0.96      0.97      0.97      4999\n           1       0.29      0.24      0.26       245\n\n   micro avg       0.94      0.94      0.94      5244\n   macro avg       0.63      0.60      0.61      5244\nweighted avg       0.93      0.94      0.93      5244\n\nclassification_report for category floods:\n              precision    recall  f1-score   support\n\n           0       0.96      0.97      0.97      4776\n           1       0.67      0.58      0.62       468\n\n   micro avg       0.94      0.94      0.94      5244\n   macro avg       0.81      0.78      0.79      5244\nweighted avg       0.93      0.94      0.93      5244\n\n"
    }
   ],
   "source": [
    "Y_pred = pipeline.predict(X_test)\n",
    "for i in range(Y_test.shape[1]):\n",
    "    print(f\"classification_report for category {output_columns[i]}:\")\n",
    "    print(classification_report(Y_test[:,i], Y_pred[:,i]))"
   ]
  },
  {
   "cell_type": "markdown",
   "metadata": {},
   "source": [
    "### 9. Export your model as a pickle file"
   ]
  },
  {
   "cell_type": "code",
   "execution_count": 9,
   "metadata": {},
   "outputs": [
    {
     "output_type": "execute_result",
     "data": {
      "text/plain": "(19662,)"
     },
     "metadata": {},
     "execution_count": 9
    }
   ],
   "source": [
    "with open('classification.pickle', 'wb') as f:\n",
    "    pickle.dump(pipeline, f)"
   ]
  },
  {
   "cell_type": "markdown",
   "metadata": {},
   "source": [
    "### 10. Use this notebook to complete `train.py`\n",
    "Use the template file attached in the Resources folder to write a script that runs the steps above to create a database and export a model based on a new dataset specified by the user."
   ]
  },
  {
   "cell_type": "code",
   "execution_count": null,
   "metadata": {},
   "outputs": [],
   "source": []
  }
 ],
 "metadata": {
  "kernelspec": {
   "display_name": "Python 3",
   "language": "python",
   "name": "python3"
  },
  "language_info": {
   "codemirror_mode": {
    "name": "ipython",
    "version": 3
   },
   "file_extension": ".py",
   "mimetype": "text/x-python",
   "name": "python",
   "nbconvert_exporter": "python",
   "pygments_lexer": "ipython3",
   "version": "3.7.6-final"
  }
 },
 "nbformat": 4,
 "nbformat_minor": 4
}